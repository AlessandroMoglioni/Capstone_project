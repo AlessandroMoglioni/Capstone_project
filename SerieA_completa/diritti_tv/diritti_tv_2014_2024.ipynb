{
 "cells": [
  {
   "cell_type": "code",
   "execution_count": 1,
   "id": "8540c6ea",
   "metadata": {},
   "outputs": [],
   "source": [
    "import pandas as pd\n",
    "\n",
    "# Elenco dei percorsi completi ai CSV (modifica con i tuoi)\n",
    "file_paths = [\n",
    "  r\"C:\\Users\\Alessandro\\Desktop\\Progetto_epicod\\Partite_serieA\\SerieA1415\\Diritti_tv_1415.csv\",\n",
    "    r\"C:\\Users\\Alessandro\\Desktop\\Progetto_epicod\\Partite_serieA\\SerieA1516\\Diritti_tv_1516.csv\",\n",
    "    r\"C:\\Users\\Alessandro\\Desktop\\Progetto_epicod\\Partite_serieA\\SerieA1617\\Diritti_tv_1617.csv\",\n",
    "    r\"C:\\Users\\Alessandro\\Desktop\\Progetto_epicod\\Partite_serieA\\SerieA1718\\Diritti_tv_1718.csv\",\n",
    "    r\"C:\\Users\\Alessandro\\Desktop\\Progetto_epicod\\Partite_serieA\\SerieA1819\\Diritti_tv_1819.csv\",\n",
    "    r\"C:\\Users\\Alessandro\\Desktop\\Progetto_epicod\\Partite_serieA\\SerieA1920\\Diritti_tv_1920.csv\",\n",
    "    r\"C:\\Users\\Alessandro\\Desktop\\Progetto_epicod\\Partite_serieA\\SerieA2021\\Diritti_tv_2021.csv\",\n",
    "    r\"C:\\Users\\Alessandro\\Desktop\\Progetto_epicod\\Partite_serieA\\SerieA2122\\Diritti_tv_2122.csv\",\n",
    "    r\"C:\\Users\\Alessandro\\Desktop\\Progetto_epicod\\Partite_serieA\\SerieA2223\\Diritti_tv_2223.csv\",\n",
    "    r\"C:\\Users\\Alessandro\\Desktop\\Progetto_epicod\\Partite_serieA\\SerieA2324\\Diritti_tv_2324.csv\",\n",
    "]\n",
    "\n",
    "# Lista per contenere i DataFrame\n",
    "df_list = []\n",
    "\n",
    "for path in file_paths:\n",
    "    df = pd.read_csv(path)\n",
    "    \n",
    "    # Normalizza i nomi delle colonne: lowercase, senza spazi extra\n",
    "    df.columns = df.columns.str.strip().str.lower().str.replace(\" \", \"_\")\n",
    "    \n",
    "    # Rinomina in modo coerente le colonne che ti interessano\n",
    "    df = df.rename(columns={\n",
    "        'parti_uguali': 'parti_uguali',\n",
    "        'sostenitori': 'sostenitori',\n",
    "        'popolazione': 'popolazione',\n",
    "        'risultati_sportivi': 'risultati_sportivi',\n",
    "        'totale': 'totale',\n",
    "        'anno': 'anno',\n",
    "        'squadra': 'squadra',\n",
    "        'club': 'squadra'  # in caso ci sia scritto \"Club\" invece di \"Squadra\"\n",
    "    })\n",
    "    \n",
    "    df_list.append(df)\n",
    "\n",
    "# Concatena tutti i DataFrame\n",
    "merged_df = pd.concat(df_list, ignore_index=True)\n",
    "\n",
    "# Salva il risultato in un nuovo CSV\n",
    "merged_df.to_csv('diritti_tv_2014_2024.csv', index=False)\n"
   ]
  },
  {
   "cell_type": "code",
   "execution_count": 2,
   "id": "06fa6680",
   "metadata": {},
   "outputs": [
    {
     "name": "stdout",
     "output_type": "stream",
     "text": [
      "Prime righe del CSV unificato:\n",
      "    squadra parti_uguali sostenitori  popolazione risultati_sportivi totale  \\\n",
      "0  Juventus         16.7        50.8          2.5               24.0   94.0   \n",
      "1      Roma         16.7        17.2          7.9               20.2   62.0   \n",
      "2     Milan         16.7        30.6          5.6               21.2   74.1   \n",
      "3     Inter         16.7        35.7          5.4               20.0   77.8   \n",
      "4    Napoli         16.7        18.5          5.2               18.8   59.2   \n",
      "\n",
      "     anno  \n",
      "0  2015.0  \n",
      "1  2015.0  \n",
      "2  2015.0  \n",
      "3  2015.0  \n",
      "4  2015.0  \n",
      "\n",
      "Numero totale di righe unite: 200\n",
      "\n",
      "Colonne presenti nel CSV unificato:\n",
      "['squadra', 'parti_uguali', 'sostenitori', 'popolazione', 'risultati_sportivi', 'totale', 'anno']\n",
      "Righe nel file 1: 20\n",
      "Righe nel file 2: 20\n",
      "Righe nel file 3: 20\n",
      "Righe nel file 4: 20\n",
      "Righe nel file 5: 20\n",
      "Righe nel file 6: 20\n",
      "Righe nel file 7: 20\n",
      "Righe nel file 8: 20\n",
      "Righe nel file 9: 20\n",
      "Righe nel file 10: 20\n"
     ]
    }
   ],
   "source": [
    "# Mostra le prime righe del DataFrame unificato\n",
    "print(\"Prime righe del CSV unificato:\")\n",
    "print(merged_df.head())\n",
    "\n",
    "# Mostra il numero totale di righe\n",
    "print(\"\\nNumero totale di righe unite:\", len(merged_df))\n",
    "\n",
    "# Mostra la lista delle colonne (per verificare che siano coerenti)\n",
    "print(\"\\nColonne presenti nel CSV unificato:\")\n",
    "print(merged_df.columns.tolist())\n",
    "\n",
    "# Facoltativo: numero di righe per ogni file (debug)\n",
    "for i, df in enumerate(df_list):\n",
    "    print(f\"Righe nel file {i+1}: {len(df)}\")\n"
   ]
  }
 ],
 "metadata": {
  "kernelspec": {
   "display_name": "Python 3",
   "language": "python",
   "name": "python3"
  },
  "language_info": {
   "codemirror_mode": {
    "name": "ipython",
    "version": 3
   },
   "file_extension": ".py",
   "mimetype": "text/x-python",
   "name": "python",
   "nbconvert_exporter": "python",
   "pygments_lexer": "ipython3",
   "version": "3.13.1"
  }
 },
 "nbformat": 4,
 "nbformat_minor": 5
}
