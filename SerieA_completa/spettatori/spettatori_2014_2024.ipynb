{
 "cells": [
  {
   "cell_type": "code",
   "execution_count": 1,
   "id": "082ddafb",
   "metadata": {},
   "outputs": [],
   "source": [
    "import pandas as pd\n",
    "\n",
    "# Elenco dei percorsi completi ai CSV (modifica con i tuoi)\n",
    "file_paths = [\n",
    " r\"C:\\Users\\Alessandro\\Desktop\\Progetto_epicod\\Partite_serieA\\SerieA1415\\Spettatori_1415.csv\",\n",
    "    r\"C:\\Users\\Alessandro\\Desktop\\Progetto_epicod\\Partite_serieA\\SerieA1516\\Spettatori_1516.csv\",\n",
    "    r\"C:\\Users\\Alessandro\\Desktop\\Progetto_epicod\\Partite_serieA\\SerieA1617\\Spettatori_1617.csv\",\n",
    "    r\"C:\\Users\\Alessandro\\Desktop\\Progetto_epicod\\Partite_serieA\\SerieA1718\\Spettatori_1718.csv\",\n",
    "    r\"C:\\Users\\Alessandro\\Desktop\\Progetto_epicod\\Partite_serieA\\SerieA1819\\Spettatori_1819.csv\",\n",
    "    r\"C:\\Users\\Alessandro\\Desktop\\Progetto_epicod\\Partite_serieA\\SerieA1920\\Spettatori_1920.csv\",\n",
    "    r\"C:\\Users\\Alessandro\\Desktop\\Progetto_epicod\\Partite_serieA\\SerieA2021\\Spettatori_2021.csv\",\n",
    "    r\"C:\\Users\\Alessandro\\Desktop\\Progetto_epicod\\Partite_serieA\\SerieA2122\\Spettatori_2122.csv\",\n",
    "    r\"C:\\Users\\Alessandro\\Desktop\\Progetto_epicod\\Partite_serieA\\SerieA2223\\Spettatori_2223.csv\",\n",
    "    r\"C:\\Users\\Alessandro\\Desktop\\Progetto_epicod\\Partite_serieA\\SerieA2324\\Spettatori_2324.csv\",\n",
    "]\n",
    "\n",
    "# Lista per contenere i DataFrame\n",
    "df_list = []\n",
    "\n",
    "# Leggi ogni CSV e aggiungilo alla lista\n",
    "for path in file_paths:\n",
    "    df = pd.read_csv(path)\n",
    "    df_list.append(df)\n",
    "\n",
    "# Unisci i DataFrame \"uno sopra l'altro\"\n",
    "merged_df = pd.concat(df_list, ignore_index=True)\n",
    "\n",
    "# Salva il risultato in un nuovo CSV\n",
    "merged_df.to_csv('spettatori_2014_2024.csv', index=False)\n"
   ]
  },
  {
   "cell_type": "code",
   "execution_count": 2,
   "id": "993cb6bb",
   "metadata": {},
   "outputs": [
    {
     "name": "stdout",
     "output_type": "stream",
     "text": [
      "Prime righe del CSV unificato:\n",
      "          Club            Stadio  Capacità  Spettatori  Media spettatori  Anno\n",
      "0      AS Roma  Olimpico di Roma     70634      762572             40135  2015\n",
      "1  Juventus FC   Allianz Stadium     41507      732504             38553  2015\n",
      "2        Inter   Giuseppe Meazza     75923      708131             37270  2015\n",
      "3     AC Milan   Giuseppe Meazza     75923      696107             36637  2015\n",
      "4     SS Lazio  Olimpico di Roma     70634      684075             36004  2015\n",
      "\n",
      "Numero totale di righe unite: 200\n",
      "\n",
      "Colonne presenti nel CSV unificato:\n",
      "['Club', 'Stadio', 'Capacità', 'Spettatori', 'Media spettatori', 'Anno']\n",
      "Righe nel file 1: 20\n",
      "Righe nel file 2: 20\n",
      "Righe nel file 3: 20\n",
      "Righe nel file 4: 20\n",
      "Righe nel file 5: 20\n",
      "Righe nel file 6: 20\n",
      "Righe nel file 7: 20\n",
      "Righe nel file 8: 20\n",
      "Righe nel file 9: 20\n",
      "Righe nel file 10: 20\n"
     ]
    }
   ],
   "source": [
    "# Mostra le prime righe del DataFrame unificato\n",
    "print(\"Prime righe del CSV unificato:\")\n",
    "print(merged_df.head())\n",
    "\n",
    "# Mostra il numero totale di righe\n",
    "print(\"\\nNumero totale di righe unite:\", len(merged_df))\n",
    "\n",
    "# Mostra la lista delle colonne (per verificare che siano coerenti)\n",
    "print(\"\\nColonne presenti nel CSV unificato:\")\n",
    "print(merged_df.columns.tolist())\n",
    "\n",
    "# Facoltativo: numero di righe per ogni file (debug)\n",
    "for i, df in enumerate(df_list):\n",
    "    print(f\"Righe nel file {i+1}: {len(df)}\")\n"
   ]
  }
 ],
 "metadata": {
  "kernelspec": {
   "display_name": "Python 3",
   "language": "python",
   "name": "python3"
  },
  "language_info": {
   "codemirror_mode": {
    "name": "ipython",
    "version": 3
   },
   "file_extension": ".py",
   "mimetype": "text/x-python",
   "name": "python",
   "nbconvert_exporter": "python",
   "pygments_lexer": "ipython3",
   "version": "3.13.1"
  }
 },
 "nbformat": 4,
 "nbformat_minor": 5
}
