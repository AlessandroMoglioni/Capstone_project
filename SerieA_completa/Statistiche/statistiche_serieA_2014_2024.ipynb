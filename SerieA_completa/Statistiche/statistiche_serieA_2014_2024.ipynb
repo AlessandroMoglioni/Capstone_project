{
 "cells": [
  {
   "cell_type": "code",
   "execution_count": 10,
   "id": "044ea125",
   "metadata": {},
   "outputs": [],
   "source": [
    "import pandas as pd\n",
    "\n",
    "# Elenco dei percorsi completi ai CSV (modifica con i tuoi)\n",
    "file_paths = [\n",
    "  r\"C:\\Users\\Alessandro\\Desktop\\Progetto_epicod\\Partite_serieA\\SerieA1415\\statistiche_SerieA1415.csv\",\n",
    "  r\"C:\\Users\\Alessandro\\Desktop\\Progetto_epicod\\Partite_serieA\\SerieA1516\\statistiche_SerieA1516.csv\",\n",
    "  r\"C:\\Users\\Alessandro\\Desktop\\Progetto_epicod\\Partite_serieA\\SerieA1617\\statistiche_SerieA1617.csv\",\n",
    "  r\"C:\\Users\\Alessandro\\Desktop\\Progetto_epicod\\Partite_serieA\\SerieA1718\\statistiche_SerieA1718.csv\",\n",
    "  r\"C:\\Users\\Alessandro\\Desktop\\Progetto_epicod\\Partite_serieA\\SerieA1819\\statistiche_SerieA1819.csv\",\n",
    "  r\"C:\\Users\\Alessandro\\Desktop\\Progetto_epicod\\Partite_serieA\\SerieA1920\\statistiche_SerieA1920.csv\",\n",
    "  r\"C:\\Users\\Alessandro\\Desktop\\Progetto_epicod\\Partite_serieA\\SerieA2021\\statistiche_SerieA2021.csv\",\n",
    "  r\"C:\\Users\\Alessandro\\Desktop\\Progetto_epicod\\Partite_serieA\\SerieA2122\\statistiche_SerieA2122.csv\",\n",
    "  r\"C:\\Users\\Alessandro\\Desktop\\Progetto_epicod\\Partite_serieA\\SerieA2223\\statistiche_SerieA2223.csv\",\n",
    "  r\"C:\\Users\\Alessandro\\Desktop\\Progetto_epicod\\Partite_serieA\\SerieA2324\\statistiche_SerieA2324.csv\",\n",
    "]\n",
    "\n",
    "# Lista per contenere i DataFrame\n",
    "df_list = []\n",
    "\n",
    "# Leggi ogni CSV e aggiungilo alla lista\n",
    "for path in file_paths:\n",
    "    df = pd.read_csv(path)\n",
    "    df_list.append(df)\n",
    "\n",
    "# Unisci i DataFrame \"uno sopra l'altro\"\n",
    "merged_df = pd.concat(df_list, ignore_index=True)\n",
    "\n",
    "# Salva il risultato in un nuovo CSV\n",
    "merged_df.to_csv('statistiche_serieA_2014_2024.csv', index=False)\n"
   ]
  },
  {
   "cell_type": "code",
   "execution_count": 9,
   "id": "f85311ad",
   "metadata": {},
   "outputs": [
    {
     "name": "stdout",
     "output_type": "stream",
     "text": [
      "Prime righe del CSV unificato:\n",
      "      squadra  totale_gol  totale_gol_subiti  media_gol_segnati  \\\n",
      "0    Juventus          72                 24           1.894737   \n",
      "1        Roma          54                 31           1.421053   \n",
      "2       Lazio          71                 38           1.868421   \n",
      "3  Fiorentina          61                 46           1.605263   \n",
      "4      Napoli          70                 54           1.842105   \n",
      "\n",
      "   media_gol_subiti  totale_partite  vittorie  pareggi  sconfitte  % vittorie  \\\n",
      "0          0.631579              38        26        9          3   68.421053   \n",
      "1          0.815789              38        19       13          6   50.000000   \n",
      "2          1.000000              38        21        6         11   55.263158   \n",
      "3          1.210526              38        18       10         10   47.368421   \n",
      "4          1.421053              38        18        9         11   47.368421   \n",
      "\n",
      "   % pareggi  % sconfitte  differenza_reti  punti  anno  \n",
      "0  23.684211     7.894737               48     87  2015  \n",
      "1  34.210526    15.789474               23     70  2015  \n",
      "2  15.789474    28.947368               33     69  2015  \n",
      "3  26.315789    26.315789               15     64  2015  \n",
      "4  23.684211    28.947368               16     63  2015  \n",
      "\n",
      "Numero totale di righe unite: 200\n",
      "\n",
      "Colonne presenti nel CSV unificato:\n",
      "['squadra', 'totale_gol', 'totale_gol_subiti', 'media_gol_segnati', 'media_gol_subiti', 'totale_partite', 'vittorie', 'pareggi', 'sconfitte', '% vittorie', '% pareggi', '% sconfitte', 'differenza_reti', 'punti', 'anno']\n",
      "Righe nel file 1: 20\n",
      "Righe nel file 2: 20\n",
      "Righe nel file 3: 20\n",
      "Righe nel file 4: 20\n",
      "Righe nel file 5: 20\n",
      "Righe nel file 6: 20\n",
      "Righe nel file 7: 20\n",
      "Righe nel file 8: 20\n",
      "Righe nel file 9: 20\n",
      "Righe nel file 10: 20\n"
     ]
    }
   ],
   "source": [
    "# Mostra le prime righe del DataFrame unificato\n",
    "print(\"Prime righe del CSV unificato:\")\n",
    "print(merged_df.head())\n",
    "\n",
    "# Mostra il numero totale di righe\n",
    "print(\"\\nNumero totale di righe unite:\", len(merged_df))\n",
    "\n",
    "# Mostra la lista delle colonne (per verificare che siano coerenti)\n",
    "print(\"\\nColonne presenti nel CSV unificato:\")\n",
    "print(merged_df.columns.tolist())\n",
    "\n",
    "# Facoltativo: numero di righe per ogni file (debug)\n",
    "for i, df in enumerate(df_list):\n",
    "    print(f\"Righe nel file {i+1}: {len(df)}\")\n"
   ]
  }
 ],
 "metadata": {
  "kernelspec": {
   "display_name": "Python 3",
   "language": "python",
   "name": "python3"
  },
  "language_info": {
   "codemirror_mode": {
    "name": "ipython",
    "version": 3
   },
   "file_extension": ".py",
   "mimetype": "text/x-python",
   "name": "python",
   "nbconvert_exporter": "python",
   "pygments_lexer": "ipython3",
   "version": "3.13.1"
  }
 },
 "nbformat": 4,
 "nbformat_minor": 5
}
