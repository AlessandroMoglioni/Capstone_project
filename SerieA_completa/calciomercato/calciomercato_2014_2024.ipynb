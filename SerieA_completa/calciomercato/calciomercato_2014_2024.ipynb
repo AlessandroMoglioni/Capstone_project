{
 "cells": [
  {
   "cell_type": "code",
   "execution_count": 1,
   "id": "44ea272c",
   "metadata": {},
   "outputs": [],
   "source": [
    "import pandas as pd\n",
    "\n",
    "# Elenco dei percorsi completi ai CSV (modifica con i tuoi)\n",
    "file_paths = [\n",
    "r\"C:\\Users\\Alessandro\\Desktop\\Progetto_epicod\\Partite_serieA\\SerieA1415\\calciomercato_1415.csv\",\n",
    "r\"C:\\Users\\Alessandro\\Desktop\\Progetto_epicod\\Partite_serieA\\SerieA1516\\calciomercato_1516.csv\",\n",
    "r\"C:\\Users\\Alessandro\\Desktop\\Progetto_epicod\\Partite_serieA\\SerieA1617\\calciomercato_1617.csv\",\n",
    "r\"C:\\Users\\Alessandro\\Desktop\\Progetto_epicod\\Partite_serieA\\SerieA1718\\calciomercato_1718.csv\",\n",
    "r\"C:\\Users\\Alessandro\\Desktop\\Progetto_epicod\\Partite_serieA\\SerieA1819\\calciomercato_1819.csv\",\n",
    "r\"C:\\Users\\Alessandro\\Desktop\\Progetto_epicod\\Partite_serieA\\SerieA1920\\calciomercato_1920.csv\",\n",
    "r\"C:\\Users\\Alessandro\\Desktop\\Progetto_epicod\\Partite_serieA\\SerieA2021\\calciomercato_2021.csv\",\n",
    "r\"C:\\Users\\Alessandro\\Desktop\\Progetto_epicod\\Partite_serieA\\SerieA2122\\calciomercato_2122.csv\",\n",
    "r\"C:\\Users\\Alessandro\\Desktop\\Progetto_epicod\\Partite_serieA\\SerieA2223\\calciomercato_2223.csv\",\n",
    "r\"C:\\Users\\Alessandro\\Desktop\\Progetto_epicod\\Partite_serieA\\SerieA2324\\calciomercato_2324.csv\",\n",
    "]\n",
    "\n",
    "# Lista per contenere i DataFrame\n",
    "df_list = []\n",
    "\n",
    "# Leggi ogni CSV e aggiungilo alla lista\n",
    "for path in file_paths:\n",
    "    df = pd.read_csv(path)\n",
    "    df_list.append(df)\n",
    "\n",
    "# Unisci i DataFrame \"uno sopra l'altro\"\n",
    "merged_df = pd.concat(df_list, ignore_index=True)\n",
    "\n",
    "# Salva il risultato in un nuovo CSV\n",
    "merged_df.to_csv('calciomercato_2014_2024.csv', index=False)\n"
   ]
  },
  {
   "cell_type": "code",
   "execution_count": 2,
   "id": "bb9e21bf",
   "metadata": {},
   "outputs": [
    {
     "name": "stdout",
     "output_type": "stream",
     "text": [
      "Prime righe del CSV unificato:\n",
      "     Società  Acquisti   Spese  Cessioni Entrate  Saldo  Anno\n",
      "0    AS Roma        47  101.41        44    41.6 -59.81  2015\n",
      "1   Juventus        62   55.10        61   25.91 -29.19  2015\n",
      "2     Napoli        40   34.80        39   20.45 -14.35  2015\n",
      "3    Udinese        54   29.20        59    25.4  -3.80  2015\n",
      "4  Sampdoria        57   24.35        52   26.52   2.17  2015\n",
      "\n",
      "Numero totale di righe unite: 200\n",
      "\n",
      "Colonne presenti nel CSV unificato:\n",
      "['Società', 'Acquisti', 'Spese', 'Cessioni', 'Entrate', 'Saldo', 'Anno']\n",
      "Righe nel file 1: 20\n",
      "Righe nel file 2: 20\n",
      "Righe nel file 3: 20\n",
      "Righe nel file 4: 20\n",
      "Righe nel file 5: 20\n",
      "Righe nel file 6: 20\n",
      "Righe nel file 7: 20\n",
      "Righe nel file 8: 20\n",
      "Righe nel file 9: 20\n",
      "Righe nel file 10: 20\n"
     ]
    }
   ],
   "source": [
    "# Mostra le prime righe del DataFrame unificato\n",
    "print(\"Prime righe del CSV unificato:\")\n",
    "print(merged_df.head())\n",
    "\n",
    "# Mostra il numero totale di righe\n",
    "print(\"\\nNumero totale di righe unite:\", len(merged_df))\n",
    "\n",
    "# Mostra la lista delle colonne (per verificare che siano coerenti)\n",
    "print(\"\\nColonne presenti nel CSV unificato:\")\n",
    "print(merged_df.columns.tolist())\n",
    "\n",
    "# Facoltativo: numero di righe per ogni file (debug)\n",
    "for i, df in enumerate(df_list):\n",
    "    print(f\"Righe nel file {i+1}: {len(df)}\")\n"
   ]
  }
 ],
 "metadata": {
  "kernelspec": {
   "display_name": "Python 3",
   "language": "python",
   "name": "python3"
  },
  "language_info": {
   "codemirror_mode": {
    "name": "ipython",
    "version": 3
   },
   "file_extension": ".py",
   "mimetype": "text/x-python",
   "name": "python",
   "nbconvert_exporter": "python",
   "pygments_lexer": "ipython3",
   "version": "3.13.1"
  }
 },
 "nbformat": 4,
 "nbformat_minor": 5
}
