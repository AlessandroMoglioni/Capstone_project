{
 "cells": [
  {
   "cell_type": "code",
   "execution_count": 5,
   "id": "6aaf2cb4",
   "metadata": {},
   "outputs": [
    {
     "name": "stdout",
     "output_type": "stream",
     "text": [
      "                               Giocatore     Squadra        Gol\n",
      "0    Cristiano Ronaldo Dos Santos Aveiro    Juventus  29 (5 r.)\n",
      "1                          Lukaku Romelu       Inter  24 (6 r.)\n",
      "2                            Muriel Luis    Atalanta  22 (2 r.)\n",
      "3                         Vlahovic Dusan  Fiorentina  21 (6 r.)\n",
      "4           Simy Tochukwu Simeon Nwankwo     Crotone  20 (7 r.)\n",
      "..                                   ...         ...        ...\n",
      "280                     Czyborra Lennart       Genoa          1\n",
      "281                        Karsdorp Rick        Roma          1\n",
      "282                       Meite Souahilo      Torino          1\n",
      "283                Samir De Souza Santos     Udinese          1\n",
      "284                Martinez Quarta Lucas  Fiorentina          1\n",
      "\n",
      "[285 rows x 3 columns]\n"
     ]
    }
   ],
   "source": [
    "import requests\n",
    "from bs4 import BeautifulSoup\n",
    "import pandas as pd\n",
    "\n",
    "url = 'https://www.datasport.it/calcio/serie-a2020-2021/marcatori/38.html'\n",
    "headers = {\n",
    "    \"User-Agent\": \"Mozilla/5.0 (Windows NT 10.0; Win64; x64) AppleWebKit/537.36 (KHTML, like Gecko) Chrome/122.0.0.0 Safari/537.36\"\n",
    "}\n",
    "\n",
    "response = requests.get(url, headers=headers)\n",
    "soup = BeautifulSoup(response.text, 'html.parser')\n",
    "\n",
    "# Trova la tabella giusta\n",
    "table = soup.find('table', class_='marcatori_campionati')\n",
    "\n",
    "# Prendi tutte le righe dei dati\n",
    "rows = table.find('tbody').find_all('tr')\n",
    "\n",
    "data = []\n",
    "for row in rows:\n",
    "    cols = row.find_all('td')\n",
    "    if len(cols) == 3:\n",
    "        gol = cols[0].text.strip()\n",
    "        giocatore = cols[1].text.strip()\n",
    "        squadra = cols[2].text.strip()\n",
    "        data.append([giocatore, squadra, gol])\n",
    "\n",
    "# Crea DataFrame\n",
    "df = pd.DataFrame(data, columns=['Giocatore', 'Squadra', 'Gol'])\n",
    "print(df)"
   ]
  },
  {
   "cell_type": "code",
   "execution_count": 6,
   "id": "97ca998c",
   "metadata": {},
   "outputs": [
    {
     "name": "stdout",
     "output_type": "stream",
     "text": [
      "                             Giocatore     Squadra        Gol  Gol Totali\n",
      "0  Cristiano Ronaldo Dos Santos Aveiro    Juventus  29 (5 r.)          29\n",
      "1                        Lukaku Romelu       Inter  24 (6 r.)          24\n",
      "2                          Muriel Luis    Atalanta  22 (2 r.)          22\n",
      "3                       Vlahovic Dusan  Fiorentina  21 (6 r.)          21\n",
      "4         Simy Tochukwu Simeon Nwankwo     Crotone  20 (7 r.)          20\n",
      "5                        Immobile Ciro       Lazio  20 (4 r.)          20\n",
      "6                      Insigne Lorenzo      Napoli  19 (6 r.)          19\n",
      "7                     Martinez Lautaro       Inter  17 (2 r.)          17\n",
      "8                     Berardi Domenico    Sassuolo  17 (7 r.)          17\n",
      "9              Joao Pedro Guerra Cunha    Cagliari  16 (4 r.)          16\n"
     ]
    }
   ],
   "source": [
    "import re\n",
    "# Funzione per pulire il numero dei gol (togliere la parte tra parentesi)\n",
    "def clean_gol(gol_str):\n",
    "    match = re.match(r\"(\\d+)\", gol_str)\n",
    "    return int(match.group(1)) if match else None\n",
    "\n",
    "# Applica la funzione\n",
    "df['Gol Totali'] = df['Gol'].apply(clean_gol)\n",
    "\n",
    "# Visualizza i primi risultati\n",
    "print(df[['Giocatore', 'Squadra', 'Gol', 'Gol Totali']].head(10))\n"
   ]
  },
  {
   "cell_type": "code",
   "execution_count": 7,
   "id": "35924848",
   "metadata": {},
   "outputs": [
    {
     "name": "stdout",
     "output_type": "stream",
     "text": [
      "                             Giocatore     Squadra  Gol Totali  Anno\n",
      "0  Cristiano Ronaldo Dos Santos Aveiro    Juventus          29  2021\n",
      "1                        Lukaku Romelu       Inter          24  2021\n",
      "2                          Muriel Luis    Atalanta          22  2021\n",
      "3                       Vlahovic Dusan  Fiorentina          21  2021\n",
      "4         Simy Tochukwu Simeon Nwankwo     Crotone          20  2021\n",
      "5                        Immobile Ciro       Lazio          20  2021\n",
      "6                      Insigne Lorenzo      Napoli          19  2021\n",
      "7                     Martinez Lautaro       Inter          17  2021\n",
      "8                     Berardi Domenico    Sassuolo          17  2021\n",
      "9              Joao Pedro Guerra Cunha    Cagliari          16  2021\n"
     ]
    }
   ],
   "source": [
    "# Elimina la colonna \"Gol\"\n",
    "df = df.drop(columns=['Gol'])\n",
    "\n",
    "#aggiungo colonna anno \n",
    "df['Anno'] = 2021\n",
    "\n",
    "# Visualizza i primi risultati per conferma\n",
    "print(df.head(10))"
   ]
  },
  {
   "cell_type": "code",
   "execution_count": 8,
   "id": "916386b2",
   "metadata": {},
   "outputs": [],
   "source": [
    "df.to_csv('marcatori_serieA2021.csv', index=False)"
   ]
  }
 ],
 "metadata": {
  "kernelspec": {
   "display_name": "Python 3",
   "language": "python",
   "name": "python3"
  },
  "language_info": {
   "codemirror_mode": {
    "name": "ipython",
    "version": 3
   },
   "file_extension": ".py",
   "mimetype": "text/x-python",
   "name": "python",
   "nbconvert_exporter": "python",
   "pygments_lexer": "ipython3",
   "version": "3.13.1"
  }
 },
 "nbformat": 4,
 "nbformat_minor": 5
}
