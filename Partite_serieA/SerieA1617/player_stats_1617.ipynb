{
 "cells": [
  {
   "cell_type": "code",
   "execution_count": 1,
   "id": "b6b8fb87",
   "metadata": {},
   "outputs": [
    {
     "name": "stdout",
     "output_type": "stream",
     "text": [
      "                Giocatore    Squadra        Gol\n",
      "0              Dzeko Edin       Roma  29 (1 r.)\n",
      "1           Mertens Dries     Napoli  28 (2 r.)\n",
      "2          Belotti Andrea     Torino  26 (2 r.)\n",
      "3    Icardi Mauro Emanuel      Inter  24 (3 r.)\n",
      "4         Higuaín Gonzalo   Juventus         24\n",
      "..                    ...        ...        ...\n",
      "254       Wallace Fortuna      Lazio          1\n",
      "255       Aleesami Haitam    Palermo          1\n",
      "256     Bellusci Giuseppe     Empoli          1\n",
      "257         Linetty Karol  Sampdoria          1\n",
      "258           Jajalo Mato    Palermo          1\n",
      "\n",
      "[259 rows x 3 columns]\n"
     ]
    }
   ],
   "source": [
    "import requests\n",
    "from bs4 import BeautifulSoup\n",
    "import pandas as pd\n",
    "\n",
    "url = 'https://www.datasport.it/calcio/serie-a2016-2017/marcatori/38.html'\n",
    "headers = {\n",
    "    \"User-Agent\": \"Mozilla/5.0 (Windows NT 10.0; Win64; x64) AppleWebKit/537.36 (KHTML, like Gecko) Chrome/122.0.0.0 Safari/537.36\"\n",
    "}\n",
    "\n",
    "response = requests.get(url, headers=headers)\n",
    "soup = BeautifulSoup(response.text, 'html.parser')\n",
    "\n",
    "# Trova la tabella giusta\n",
    "table = soup.find('table', class_='marcatori_campionati')\n",
    "\n",
    "# Prendi tutte le righe dei dati\n",
    "rows = table.find('tbody').find_all('tr')\n",
    "\n",
    "data = []\n",
    "for row in rows:\n",
    "    cols = row.find_all('td')\n",
    "    if len(cols) == 3:\n",
    "        gol = cols[0].text.strip()\n",
    "        giocatore = cols[1].text.strip()\n",
    "        squadra = cols[2].text.strip()\n",
    "        data.append([giocatore, squadra, gol])\n",
    "\n",
    "# Crea DataFrame\n",
    "df = pd.DataFrame(data, columns=['Giocatore', 'Squadra', 'Gol'])\n",
    "print(df)\n"
   ]
  },
  {
   "cell_type": "code",
   "execution_count": 3,
   "id": "6730cc9f",
   "metadata": {},
   "outputs": [
    {
     "name": "stdout",
     "output_type": "stream",
     "text": [
      "              Giocatore   Squadra        Gol  Gol Totali\n",
      "0            Dzeko Edin      Roma  29 (1 r.)          29\n",
      "1         Mertens Dries    Napoli  28 (2 r.)          28\n",
      "2        Belotti Andrea    Torino  26 (2 r.)          26\n",
      "3  Icardi Mauro Emanuel     Inter  24 (3 r.)          24\n",
      "4       Higuaín Gonzalo  Juventus         24          24\n",
      "5         Immobile Ciro     Lazio  23 (6 r.)          23\n",
      "6       Insigne Lorenzo    Napoli  18 (2 r.)          18\n",
      "7  Papu Gomez Alejandro  Atalanta  16 (2 r.)          16\n",
      "8      Keita Baldé Diao     Lazio  16 (2 r.)          16\n",
      "9       Borriello Marco  Cagliari  16 (1 r.)          16\n"
     ]
    }
   ],
   "source": [
    "import re\n",
    "# Funzione per pulire il numero dei gol (togliere la parte tra parentesi)\n",
    "def clean_gol(gol_str):\n",
    "    match = re.match(r\"(\\d+)\", gol_str)\n",
    "    return int(match.group(1)) if match else None\n",
    "\n",
    "# Applica la funzione\n",
    "df['Gol Totali'] = df['Gol'].apply(clean_gol)\n",
    "\n",
    "# Visualizza i primi risultati\n",
    "print(df[['Giocatore', 'Squadra', 'Gol', 'Gol Totali']].head(10))"
   ]
  },
  {
   "cell_type": "code",
   "execution_count": 4,
   "id": "a0e8e93f",
   "metadata": {},
   "outputs": [
    {
     "name": "stdout",
     "output_type": "stream",
     "text": [
      "              Giocatore   Squadra  Gol Totali  Anno\n",
      "0            Dzeko Edin      Roma          29  2017\n",
      "1         Mertens Dries    Napoli          28  2017\n",
      "2        Belotti Andrea    Torino          26  2017\n",
      "3  Icardi Mauro Emanuel     Inter          24  2017\n",
      "4       Higuaín Gonzalo  Juventus          24  2017\n",
      "5         Immobile Ciro     Lazio          23  2017\n",
      "6       Insigne Lorenzo    Napoli          18  2017\n",
      "7  Papu Gomez Alejandro  Atalanta          16  2017\n",
      "8      Keita Baldé Diao     Lazio          16  2017\n",
      "9       Borriello Marco  Cagliari          16  2017\n"
     ]
    }
   ],
   "source": [
    "# Elimina la colonna \"Gol\"\n",
    "df = df.drop(columns=['Gol'])\n",
    "\n",
    "#aggiungo colonna anno \n",
    "df['Anno'] = 2017\n",
    "\n",
    "# Visualizza i primi risultati per conferma\n",
    "print(df.head(10))"
   ]
  },
  {
   "cell_type": "code",
   "execution_count": 5,
   "id": "e44647e4",
   "metadata": {},
   "outputs": [
    {
     "name": "stdout",
     "output_type": "stream",
     "text": [
      "                Giocatore    Squadra  Gol Totali  Anno\n",
      "0              Dzeko Edin       Roma          29  2017\n",
      "1           Mertens Dries     Napoli          28  2017\n",
      "2          Belotti Andrea     Torino          26  2017\n",
      "3    Icardi Mauro Emanuel      Inter          24  2017\n",
      "4         Higuaín Gonzalo   Juventus          24  2017\n",
      "..                    ...        ...         ...   ...\n",
      "254       Wallace Fortuna      Lazio           1  2017\n",
      "255       Aleesami Haitam    Palermo           1  2017\n",
      "256     Bellusci Giuseppe     Empoli           1  2017\n",
      "257         Linetty Karol  Sampdoria           1  2017\n",
      "258           Jajalo Mato    Palermo           1  2017\n",
      "\n",
      "[259 rows x 4 columns]\n"
     ]
    }
   ],
   "source": [
    "#aggiungo la colonna anno\n",
    "df[\"Anno\"] = 2017\n",
    "print(df)"
   ]
  },
  {
   "cell_type": "code",
   "execution_count": 6,
   "id": "b3064ea8",
   "metadata": {},
   "outputs": [],
   "source": [
    "df.to_csv('marcatori_serieA1617.csv', index=False)"
   ]
  }
 ],
 "metadata": {
  "kernelspec": {
   "display_name": "Python 3",
   "language": "python",
   "name": "python3"
  },
  "language_info": {
   "codemirror_mode": {
    "name": "ipython",
    "version": 3
   },
   "file_extension": ".py",
   "mimetype": "text/x-python",
   "name": "python",
   "nbconvert_exporter": "python",
   "pygments_lexer": "ipython3",
   "version": "3.13.1"
  }
 },
 "nbformat": 4,
 "nbformat_minor": 5
}
