{
 "cells": [
  {
   "cell_type": "code",
   "execution_count": 2,
   "id": "6030d3f8",
   "metadata": {},
   "outputs": [
    {
     "name": "stdout",
     "output_type": "stream",
     "text": [
      "             Giocatore     Squadra Gol\n",
      "0      Gonzalo Higuaín      Napoli  36\n",
      "1         Paulo Dybala    Juventus  19\n",
      "2         Carlos Bacca       Milan  18\n",
      "3         Mauro Icardi       Inter  16\n",
      "4   Leonardo Pavoletti       Genoa  14\n",
      "5        Mohamed Salah        Roma  14\n",
      "6                 Éder       Inter  13\n",
      "7         Josip Ilicic  Fiorentina  13\n",
      "8    Massimo Maccarone      Empoli  13\n",
      "9       Andrea Belotti      Torino  12\n",
      "10     Lorenzo Insigne      Napoli  12\n",
      "11      Nikola Kalinic  Fiorentina  12\n",
      "12       Cyril Thereau     Udinese  11\n",
      "13   Alberto Gilardino     Palermo  10\n",
      "14    Antonio Candreva       Lazio  10\n",
      "15     Mario Mandzukic    Juventus  10\n",
      "16      Miralem Pjanic        Roma  10\n",
      "17      Daniel Ciofani   Frosinone   9\n",
      "18    Federico Dionisi   Frosinone   9\n"
     ]
    }
   ],
   "source": [
    "import requests\n",
    "from bs4 import BeautifulSoup\n",
    "import pandas as pd\n",
    "\n",
    "# URL della pagina\n",
    "url = \"https://www.topmarcatori.it/serie-a/stagione-2015/2016\"\n",
    "\n",
    "# Richiedi la pagina\n",
    "response = requests.get(url)\n",
    "soup = BeautifulSoup(response.content, \"html.parser\")\n",
    "\n",
    "# Trova la tabella con i dati\n",
    "table = soup.find(\"table\", class_=\"table table-striped\")\n",
    "\n",
    "# Inizializza le liste per i dati\n",
    "giocatori, squadre, gol = [], [], []\n",
    "\n",
    "# Scorri le righe della tabella per estrarre i dati\n",
    "for row in table.find_all(\"tr\")[1:]:  # Ignora la riga dell'intestazione\n",
    "    cols = row.find_all(\"td\")\n",
    "    if len(cols) >= 4:\n",
    "        # Estrai il nome del giocatore e della squadra\n",
    "        nome_squadra = cols[1].get_text(strip=True, separator=\"\\n\").split(\"\\n\")\n",
    "        giocatori.append(nome_squadra[0])\n",
    "        squadre.append(nome_squadra[1] if len(nome_squadra) > 1 else \"Non trovata\")\n",
    "        \n",
    "        # Estrai i gol dal div con class \"goals\"\n",
    "        gol_div = row.find(\"div\", class_=\"goals\")\n",
    "        if gol_div:\n",
    "            gol.append(gol_div.get_text(strip=True))\n",
    "        else:\n",
    "            gol.append(\"Non trovato\")\n",
    "\n",
    "# Crea un DataFrame con i dati\n",
    "df = pd.DataFrame({\n",
    "    \"Giocatore\": giocatori,\n",
    "    \"Squadra\": squadre,\n",
    "    \"Gol\": gol\n",
    "})\n",
    "\n",
    "# Mostra il risultato\n",
    "print(df)\n"
   ]
  },
  {
   "cell_type": "code",
   "execution_count": 3,
   "id": "0c701abf",
   "metadata": {},
   "outputs": [
    {
     "name": "stdout",
     "output_type": "stream",
     "text": [
      "             Giocatore     Squadra Gol  Anno\n",
      "0      Gonzalo Higuaín      Napoli  36  2016\n",
      "1         Paulo Dybala    Juventus  19  2016\n",
      "2         Carlos Bacca       Milan  18  2016\n",
      "3         Mauro Icardi       Inter  16  2016\n",
      "4   Leonardo Pavoletti       Genoa  14  2016\n",
      "5        Mohamed Salah        Roma  14  2016\n",
      "6                 Éder       Inter  13  2016\n",
      "7         Josip Ilicic  Fiorentina  13  2016\n",
      "8    Massimo Maccarone      Empoli  13  2016\n",
      "9       Andrea Belotti      Torino  12  2016\n",
      "10     Lorenzo Insigne      Napoli  12  2016\n",
      "11      Nikola Kalinic  Fiorentina  12  2016\n",
      "12       Cyril Thereau     Udinese  11  2016\n",
      "13   Alberto Gilardino     Palermo  10  2016\n",
      "14    Antonio Candreva       Lazio  10  2016\n",
      "15     Mario Mandzukic    Juventus  10  2016\n",
      "16      Miralem Pjanic        Roma  10  2016\n",
      "17      Daniel Ciofani   Frosinone   9  2016\n",
      "18    Federico Dionisi   Frosinone   9  2016\n"
     ]
    }
   ],
   "source": [
    "#aggiungo la colonna anno\n",
    "df[\"Anno\"] = 2016\n",
    "print(df)"
   ]
  },
  {
   "cell_type": "code",
   "execution_count": 4,
   "id": "68306bd2",
   "metadata": {},
   "outputs": [
    {
     "name": "stdout",
     "output_type": "stream",
     "text": [
      "             Giocatore     Squadra Gol totali  Anno\n",
      "0      Gonzalo Higuaín      Napoli         36  2016\n",
      "1         Paulo Dybala    Juventus         19  2016\n",
      "2         Carlos Bacca       Milan         18  2016\n",
      "3         Mauro Icardi       Inter         16  2016\n",
      "4   Leonardo Pavoletti       Genoa         14  2016\n",
      "5        Mohamed Salah        Roma         14  2016\n",
      "6                 Éder       Inter         13  2016\n",
      "7         Josip Ilicic  Fiorentina         13  2016\n",
      "8    Massimo Maccarone      Empoli         13  2016\n",
      "9       Andrea Belotti      Torino         12  2016\n",
      "10     Lorenzo Insigne      Napoli         12  2016\n",
      "11      Nikola Kalinic  Fiorentina         12  2016\n",
      "12       Cyril Thereau     Udinese         11  2016\n",
      "13   Alberto Gilardino     Palermo         10  2016\n",
      "14    Antonio Candreva       Lazio         10  2016\n",
      "15     Mario Mandzukic    Juventus         10  2016\n",
      "16      Miralem Pjanic        Roma         10  2016\n",
      "17      Daniel Ciofani   Frosinone          9  2016\n",
      "18    Federico Dionisi   Frosinone          9  2016\n"
     ]
    }
   ],
   "source": [
    "#modifico il nome della colonna \"Gol\" in \"Gol totali\n",
    "df.rename(columns={\"Gol\": \"Gol totali\"}, inplace=True)\n",
    "print(df)"
   ]
  },
  {
   "cell_type": "code",
   "execution_count": 5,
   "id": "85c83096",
   "metadata": {},
   "outputs": [],
   "source": [
    "#salviamo il DataFrame in un file CSV\n",
    "df.to_csv(\"marcatori_serieA1516.csv\", index=False, encoding='utf-8-sig')"
   ]
  }
 ],
 "metadata": {
  "kernelspec": {
   "display_name": "Python 3",
   "language": "python",
   "name": "python3"
  },
  "language_info": {
   "codemirror_mode": {
    "name": "ipython",
    "version": 3
   },
   "file_extension": ".py",
   "mimetype": "text/x-python",
   "name": "python",
   "nbconvert_exporter": "python",
   "pygments_lexer": "ipython3",
   "version": "3.13.1"
  }
 },
 "nbformat": 4,
 "nbformat_minor": 5
}
