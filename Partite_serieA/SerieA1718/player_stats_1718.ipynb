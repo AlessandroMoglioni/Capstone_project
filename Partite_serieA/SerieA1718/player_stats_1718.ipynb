{
 "cells": [
  {
   "cell_type": "code",
   "execution_count": 1,
   "id": "ba5707f4",
   "metadata": {},
   "outputs": [
    {
     "name": "stdout",
     "output_type": "stream",
     "text": [
      "                Giocatore    Squadra        Gol\n",
      "0    Icardi Mauro Emanuel      Inter  29 (5 r.)\n",
      "1           Immobile Ciro      Lazio  29 (7 r.)\n",
      "2            Dybala Paulo   Juventus  22 (3 r.)\n",
      "3      Quagliarella Fabio  Sampdoria  19 (7 r.)\n",
      "4           Mertens Dries     Napoli  18 (4 r.)\n",
      "..                    ...        ...        ...\n",
      "263         Puscas George  Benevento          1\n",
      "264          Bessa Daniel     Verona          1\n",
      "265        Cataldi Danilo  Benevento          1\n",
      "266       Borriello Marco       SPAL          1\n",
      "267       Calabria Davide      Milan          1\n",
      "\n",
      "[268 rows x 3 columns]\n"
     ]
    }
   ],
   "source": [
    "import requests\n",
    "from bs4 import BeautifulSoup\n",
    "import pandas as pd\n",
    "\n",
    "url = 'https://www.datasport.it/calcio/serie-a2017-2018/marcatori/38.html'\n",
    "headers = {\n",
    "    \"User-Agent\": \"Mozilla/5.0 (Windows NT 10.0; Win64; x64) AppleWebKit/537.36 (KHTML, like Gecko) Chrome/122.0.0.0 Safari/537.36\"\n",
    "}\n",
    "\n",
    "response = requests.get(url, headers=headers)\n",
    "soup = BeautifulSoup(response.text, 'html.parser')\n",
    "\n",
    "# Trova la tabella giusta\n",
    "table = soup.find('table', class_='marcatori_campionati')\n",
    "\n",
    "# Prendi tutte le righe dei dati\n",
    "rows = table.find('tbody').find_all('tr')\n",
    "\n",
    "data = []\n",
    "for row in rows:\n",
    "    cols = row.find_all('td')\n",
    "    if len(cols) == 3:\n",
    "        gol = cols[0].text.strip()\n",
    "        giocatore = cols[1].text.strip()\n",
    "        squadra = cols[2].text.strip()\n",
    "        data.append([giocatore, squadra, gol])\n",
    "\n",
    "# Crea DataFrame\n",
    "df = pd.DataFrame(data, columns=['Giocatore', 'Squadra', 'Gol'])\n",
    "print(df)\n"
   ]
  },
  {
   "cell_type": "code",
   "execution_count": 2,
   "id": "6e5575ad",
   "metadata": {},
   "outputs": [
    {
     "name": "stdout",
     "output_type": "stream",
     "text": [
      "                 Giocatore     Squadra        Gol  Gol Totali\n",
      "0     Icardi Mauro Emanuel       Inter  29 (5 r.)          29\n",
      "1            Immobile Ciro       Lazio  29 (7 r.)          29\n",
      "2             Dybala Paulo    Juventus  22 (3 r.)          22\n",
      "3       Quagliarella Fabio   Sampdoria  19 (7 r.)          19\n",
      "4            Mertens Dries      Napoli  18 (4 r.)          18\n",
      "5               Dzeko Edin        Roma         16          16\n",
      "6          Higuaín Gonzalo    Juventus  16 (1 r.)          16\n",
      "7   Simeone Giovanni Pablo  Fiorentina         14          14\n",
      "8  Milinkovic-Savic Sergej       Lazio         12          12\n",
      "9        Iago Falque Silva      Torino         12          12\n"
     ]
    }
   ],
   "source": [
    "import re\n",
    "# Funzione per pulire il numero dei gol (togliere la parte tra parentesi)\n",
    "def clean_gol(gol_str):\n",
    "    match = re.match(r\"(\\d+)\", gol_str)\n",
    "    return int(match.group(1)) if match else None\n",
    "\n",
    "# Applica la funzione\n",
    "df['Gol Totali'] = df['Gol'].apply(clean_gol)\n",
    "\n",
    "# Visualizza i primi risultati\n",
    "print(df[['Giocatore', 'Squadra', 'Gol', 'Gol Totali']].head(10))"
   ]
  },
  {
   "cell_type": "code",
   "execution_count": 3,
   "id": "02c02f45",
   "metadata": {},
   "outputs": [
    {
     "name": "stdout",
     "output_type": "stream",
     "text": [
      "                 Giocatore     Squadra  Gol Totali  Anno\n",
      "0     Icardi Mauro Emanuel       Inter          29  2018\n",
      "1            Immobile Ciro       Lazio          29  2018\n",
      "2             Dybala Paulo    Juventus          22  2018\n",
      "3       Quagliarella Fabio   Sampdoria          19  2018\n",
      "4            Mertens Dries      Napoli          18  2018\n",
      "5               Dzeko Edin        Roma          16  2018\n",
      "6          Higuaín Gonzalo    Juventus          16  2018\n",
      "7   Simeone Giovanni Pablo  Fiorentina          14  2018\n",
      "8  Milinkovic-Savic Sergej       Lazio          12  2018\n",
      "9        Iago Falque Silva      Torino          12  2018\n"
     ]
    }
   ],
   "source": [
    "# Elimina la colonna \"Gol\"\n",
    "df = df.drop(columns=['Gol'])\n",
    "\n",
    "#aggiungo colonna anno \n",
    "df['Anno'] = 2018\n",
    "\n",
    "# Visualizza i primi risultati per conferma\n",
    "print(df.head(10))"
   ]
  },
  {
   "cell_type": "code",
   "execution_count": 4,
   "id": "18d19e72",
   "metadata": {},
   "outputs": [],
   "source": [
    "df.to_csv('marcatori_serieA1718.csv', index=False)"
   ]
  }
 ],
 "metadata": {
  "kernelspec": {
   "display_name": "Python 3",
   "language": "python",
   "name": "python3"
  },
  "language_info": {
   "codemirror_mode": {
    "name": "ipython",
    "version": 3
   },
   "file_extension": ".py",
   "mimetype": "text/x-python",
   "name": "python",
   "nbconvert_exporter": "python",
   "pygments_lexer": "ipython3",
   "version": "3.13.1"
  }
 },
 "nbformat": 4,
 "nbformat_minor": 5
}
