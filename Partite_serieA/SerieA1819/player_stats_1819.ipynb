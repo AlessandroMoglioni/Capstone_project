{
 "cells": [
  {
   "cell_type": "code",
   "execution_count": 1,
   "id": "fa011556",
   "metadata": {},
   "outputs": [
    {
     "name": "stdout",
     "output_type": "stream",
     "text": [
      "                               Giocatore    Squadra        Gol\n",
      "0                     Quagliarella Fabio  Sampdoria  26 (9 r.)\n",
      "1                           Zapata Duvan   Atalanta  23 (1 r.)\n",
      "2    Cristiano Ronaldo Dos Santos Aveiro   Juventus  21 (5 r.)\n",
      "3                        Milik Arkadiusz     Napoli         17\n",
      "4                         Petagna Andrea       SPAL  16 (5 r.)\n",
      "..                                   ...        ...        ...\n",
      "264                      Brignola Enrico   Sassuolo          1\n",
      "265               Alex Sandro Lobo Silva   Juventus          1\n",
      "266                   Dell'Orco Cristian     Empoli          1\n",
      "267                            Rog Marko     Napoli          1\n",
      "268                     Dionisi Federico  Frosinone          1\n",
      "\n",
      "[269 rows x 3 columns]\n"
     ]
    }
   ],
   "source": [
    "import requests\n",
    "from bs4 import BeautifulSoup\n",
    "import pandas as pd\n",
    "\n",
    "url = 'https://www.datasport.it/calcio/serie-a2018-2019/marcatori/38.html'\n",
    "headers = {\n",
    "    \"User-Agent\": \"Mozilla/5.0 (Windows NT 10.0; Win64; x64) AppleWebKit/537.36 (KHTML, like Gecko) Chrome/122.0.0.0 Safari/537.36\"\n",
    "}\n",
    "\n",
    "response = requests.get(url, headers=headers)\n",
    "soup = BeautifulSoup(response.text, 'html.parser')\n",
    "\n",
    "# Trova la tabella giusta\n",
    "table = soup.find('table', class_='marcatori_campionati')\n",
    "\n",
    "# Prendi tutte le righe dei dati\n",
    "rows = table.find('tbody').find_all('tr')\n",
    "\n",
    "data = []\n",
    "for row in rows:\n",
    "    cols = row.find_all('td')\n",
    "    if len(cols) == 3:\n",
    "        gol = cols[0].text.strip()\n",
    "        giocatore = cols[1].text.strip()\n",
    "        squadra = cols[2].text.strip()\n",
    "        data.append([giocatore, squadra, gol])\n",
    "\n",
    "# Crea DataFrame\n",
    "df = pd.DataFrame(data, columns=['Giocatore', 'Squadra', 'Gol'])\n",
    "print(df)\n"
   ]
  },
  {
   "cell_type": "code",
   "execution_count": 2,
   "id": "5641c335",
   "metadata": {},
   "outputs": [
    {
     "name": "stdout",
     "output_type": "stream",
     "text": [
      "                             Giocatore    Squadra        Gol  Gol Totali\n",
      "0                   Quagliarella Fabio  Sampdoria  26 (9 r.)          26\n",
      "1                         Zapata Duvan   Atalanta  23 (1 r.)          23\n",
      "2  Cristiano Ronaldo Dos Santos Aveiro   Juventus  21 (5 r.)          21\n",
      "3                      Milik Arkadiusz     Napoli         17          17\n",
      "4                       Petagna Andrea       SPAL  16 (5 r.)          16\n",
      "5                     Caputo Francesco     Empoli  16 (3 r.)          16\n",
      "6                        Mertens Dries     Napoli  16 (1 r.)          16\n",
      "7                   Pavoletti Leonardo   Cagliari         16          16\n",
      "8                        Immobile Ciro      Lazio  15 (4 r.)          15\n",
      "9                       Belotti Andrea     Torino  15 (5 r.)          15\n"
     ]
    }
   ],
   "source": [
    "import re\n",
    "# Funzione per pulire il numero dei gol (togliere la parte tra parentesi)\n",
    "def clean_gol(gol_str):\n",
    "    match = re.match(r\"(\\d+)\", gol_str)\n",
    "    return int(match.group(1)) if match else None\n",
    "\n",
    "# Applica la funzione\n",
    "df['Gol Totali'] = df['Gol'].apply(clean_gol)\n",
    "\n",
    "# Visualizza i primi risultati\n",
    "print(df[['Giocatore', 'Squadra', 'Gol', 'Gol Totali']].head(10))"
   ]
  },
  {
   "cell_type": "code",
   "execution_count": 3,
   "id": "61fa9227",
   "metadata": {},
   "outputs": [
    {
     "name": "stdout",
     "output_type": "stream",
     "text": [
      "                             Giocatore    Squadra  Gol Totali  Anno\n",
      "0                   Quagliarella Fabio  Sampdoria          26  2019\n",
      "1                         Zapata Duvan   Atalanta          23  2019\n",
      "2  Cristiano Ronaldo Dos Santos Aveiro   Juventus          21  2019\n",
      "3                      Milik Arkadiusz     Napoli          17  2019\n",
      "4                       Petagna Andrea       SPAL          16  2019\n",
      "5                     Caputo Francesco     Empoli          16  2019\n",
      "6                        Mertens Dries     Napoli          16  2019\n",
      "7                   Pavoletti Leonardo   Cagliari          16  2019\n",
      "8                        Immobile Ciro      Lazio          15  2019\n",
      "9                       Belotti Andrea     Torino          15  2019\n"
     ]
    }
   ],
   "source": [
    "# Elimina la colonna \"Gol\"\n",
    "df = df.drop(columns=['Gol'])\n",
    "\n",
    "#aggiungo colonna anno \n",
    "df['Anno'] = 2019\n",
    "\n",
    "# Visualizza i primi risultati per conferma\n",
    "print(df.head(10))"
   ]
  },
  {
   "cell_type": "code",
   "execution_count": 4,
   "id": "db704815",
   "metadata": {},
   "outputs": [],
   "source": [
    "df.to_csv('marcatori_serieA1819.csv', index=False)"
   ]
  }
 ],
 "metadata": {
  "kernelspec": {
   "display_name": "Python 3",
   "language": "python",
   "name": "python3"
  },
  "language_info": {
   "codemirror_mode": {
    "name": "ipython",
    "version": 3
   },
   "file_extension": ".py",
   "mimetype": "text/x-python",
   "name": "python",
   "nbconvert_exporter": "python",
   "pygments_lexer": "ipython3",
   "version": "3.13.1"
  }
 },
 "nbformat": 4,
 "nbformat_minor": 5
}
