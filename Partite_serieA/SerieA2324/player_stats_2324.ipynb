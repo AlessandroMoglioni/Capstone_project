{
 "cells": [
  {
   "cell_type": "code",
   "execution_count": 1,
   "id": "a048ea9b",
   "metadata": {},
   "outputs": [
    {
     "name": "stdout",
     "output_type": "stream",
     "text": [
      "                   Giocatore      Squadra        Gol\n",
      "0           Martinez Lautaro        Inter  24 (2 r.)\n",
      "1             Vlahovic Dusan     Juventus  16 (2 r.)\n",
      "2             Giroud Olivier        Milan  15 (4 r.)\n",
      "3             Osimhen Victor       Napoli  15 (3 r.)\n",
      "4         Gudmundsson Albert        Genoa  14 (4 r.)\n",
      "..                       ...          ...        ...\n",
      "279   Ikwuemesi Chukwubuikem  Salernitana          1\n",
      "280      Mutandwa  Kingstone     Cagliari          1\n",
      "281  Pedro Rodriguez Ledesma        Lazio          1\n",
      "282        Giannetti Lautaro      Udinese          1\n",
      "283          Castro Santiago      Bologna          1\n",
      "\n",
      "[284 rows x 3 columns]\n"
     ]
    }
   ],
   "source": [
    "import requests\n",
    "from bs4 import BeautifulSoup\n",
    "import pandas as pd\n",
    "\n",
    "url = 'https://www.datasport.it/calcio/serie-a2023-2024/marcatori/38.html'\n",
    "headers = {\n",
    "    \"User-Agent\": \"Mozilla/5.0 (Windows NT 10.0; Win64; x64) AppleWebKit/537.36 (KHTML, like Gecko) Chrome/122.0.0.0 Safari/537.36\"\n",
    "}\n",
    "\n",
    "response = requests.get(url, headers=headers)\n",
    "soup = BeautifulSoup(response.text, 'html.parser')\n",
    "\n",
    "# Trova la tabella giusta\n",
    "table = soup.find('table', class_='marcatori_campionati')\n",
    "\n",
    "# Prendi tutte le righe dei dati\n",
    "rows = table.find('tbody').find_all('tr')\n",
    "\n",
    "data = []\n",
    "for row in rows:\n",
    "    cols = row.find_all('td')\n",
    "    if len(cols) == 3:\n",
    "        gol = cols[0].text.strip()\n",
    "        giocatore = cols[1].text.strip()\n",
    "        squadra = cols[2].text.strip()\n",
    "        data.append([giocatore, squadra, gol])\n",
    "\n",
    "# Crea DataFrame\n",
    "df = pd.DataFrame(data, columns=['Giocatore', 'Squadra', 'Gol'])\n",
    "print(df)\n"
   ]
  },
  {
   "cell_type": "code",
   "execution_count": 2,
   "id": "deae9f49",
   "metadata": {},
   "outputs": [
    {
     "name": "stdout",
     "output_type": "stream",
     "text": [
      "            Giocatore                      Squadra         Gol  Gol Totali\n",
      "0    Martinez Lautaro                        Inter   24 (2 r.)          24\n",
      "1      Vlahovic Dusan                     Juventus   16 (2 r.)          16\n",
      "2      Giroud Olivier                        Milan   15 (4 r.)          15\n",
      "3      Osimhen Victor                       Napoli   15 (3 r.)          15\n",
      "4  Gudmundsson Albert                        Genoa   14 (4 r.)          14\n",
      "5        Dybala Paulo                         Roma   13 (7 r.)          13\n",
      "6        Zapata Duvan  Torino (12) -  Atalanta (1)          13          13\n",
      "7    Calhanoglu Hakan                        Inter  13 (10 r.)          13\n",
      "8       Thuram Marcus                        Inter          13          13\n",
      "9       Lukaku Romelu                         Roma          13          13\n"
     ]
    }
   ],
   "source": [
    "import re\n",
    "# Funzione per pulire il numero dei gol (togliere la parte tra parentesi)\n",
    "def clean_gol(gol_str):\n",
    "    match = re.match(r\"(\\d+)\", gol_str)\n",
    "    return int(match.group(1)) if match else None\n",
    "\n",
    "# Applica la funzione\n",
    "df['Gol Totali'] = df['Gol'].apply(clean_gol)\n",
    "\n",
    "# Visualizza i primi risultati\n",
    "print(df[['Giocatore', 'Squadra', 'Gol', 'Gol Totali']].head(10))"
   ]
  },
  {
   "cell_type": "code",
   "execution_count": 3,
   "id": "2768010a",
   "metadata": {},
   "outputs": [
    {
     "name": "stdout",
     "output_type": "stream",
     "text": [
      "            Giocatore                      Squadra  Gol Totali  Anno\n",
      "0    Martinez Lautaro                        Inter          24  2024\n",
      "1      Vlahovic Dusan                     Juventus          16  2024\n",
      "2      Giroud Olivier                        Milan          15  2024\n",
      "3      Osimhen Victor                       Napoli          15  2024\n",
      "4  Gudmundsson Albert                        Genoa          14  2024\n",
      "5        Dybala Paulo                         Roma          13  2024\n",
      "6        Zapata Duvan  Torino (12) -  Atalanta (1)          13  2024\n",
      "7    Calhanoglu Hakan                        Inter          13  2024\n",
      "8       Thuram Marcus                        Inter          13  2024\n",
      "9       Lukaku Romelu                         Roma          13  2024\n"
     ]
    }
   ],
   "source": [
    "# Elimina la colonna \"Gol\"\n",
    "df = df.drop(columns=['Gol'])\n",
    "\n",
    "#aggiungo colonna anno \n",
    "df['Anno'] = 2024\n",
    "\n",
    "# Visualizza i primi risultati per conferma\n",
    "print(df.head(10))"
   ]
  },
  {
   "cell_type": "code",
   "execution_count": 6,
   "id": "3cbf60e1",
   "metadata": {},
   "outputs": [
    {
     "name": "stdout",
     "output_type": "stream",
     "text": [
      "            Giocatore   Squadra  Gol Totali  Anno\n",
      "0    Martinez Lautaro     Inter          24  2024\n",
      "1      Vlahovic Dusan  Juventus          16  2024\n",
      "2      Giroud Olivier     Milan          15  2024\n",
      "3      Osimhen Victor    Napoli          15  2024\n",
      "4  Gudmundsson Albert     Genoa          14  2024\n",
      "5        Dybala Paulo      Roma          13  2024\n",
      "6        Zapata Duvan    Torino          13  2024\n",
      "7    Calhanoglu Hakan     Inter          13  2024\n",
      "8       Thuram Marcus     Inter          13  2024\n",
      "9       Lukaku Romelu      Roma          13  2024\n"
     ]
    }
   ],
   "source": [
    "#modifica squadra per giocatore zapata duvan\n",
    "df.loc[df['Giocatore'] == 'Zapata Duvan', 'Squadra'] = 'Torino'\n",
    "print(df.head(10))"
   ]
  },
  {
   "cell_type": "code",
   "execution_count": 7,
   "id": "fb31c947",
   "metadata": {},
   "outputs": [],
   "source": [
    "df.to_csv('marcatori_serieA2324.csv', index=False)"
   ]
  }
 ],
 "metadata": {
  "kernelspec": {
   "display_name": "Python 3",
   "language": "python",
   "name": "python3"
  },
  "language_info": {
   "codemirror_mode": {
    "name": "ipython",
    "version": 3
   },
   "file_extension": ".py",
   "mimetype": "text/x-python",
   "name": "python",
   "nbconvert_exporter": "python",
   "pygments_lexer": "ipython3",
   "version": "3.13.1"
  }
 },
 "nbformat": 4,
 "nbformat_minor": 5
}
