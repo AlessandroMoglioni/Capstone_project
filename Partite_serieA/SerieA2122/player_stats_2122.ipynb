{
 "cells": [
  {
   "cell_type": "code",
   "execution_count": 1,
   "id": "62dd7a7b",
   "metadata": {},
   "outputs": [
    {
     "name": "stdout",
     "output_type": "stream",
     "text": [
      "                        Giocatore      Squadra        Gol\n",
      "0                   Immobile Ciro        Lazio  27 (7 r.)\n",
      "1                Martinez Lautaro        Inter  21 (2 r.)\n",
      "2          Simeone Giovanni Pablo       Verona         17\n",
      "3                   Abraham Tammy         Roma  17 (3 r.)\n",
      "4                  Vlahovic Dusan   Fiorentina  17 (5 r.)\n",
      "..                            ...          ...        ...\n",
      "274  Simy Tochukwu Simeon Nwankwo  Salernitana          1\n",
      "275                Amrabat Sofyan   Fiorentina          1\n",
      "276               Bellanova Raoul     Cagliari          1\n",
      "277                  Gondo Cedric  Salernitana          1\n",
      "278              Schiavone Andrea  Salernitana          1\n",
      "\n",
      "[279 rows x 3 columns]\n"
     ]
    }
   ],
   "source": [
    "import requests\n",
    "from bs4 import BeautifulSoup\n",
    "import pandas as pd\n",
    "\n",
    "url = 'https://www.datasport.it/calcio/serie-a2021-2022/marcatori/38.html'\n",
    "headers = {\n",
    "    \"User-Agent\": \"Mozilla/5.0 (Windows NT 10.0; Win64; x64) AppleWebKit/537.36 (KHTML, like Gecko) Chrome/122.0.0.0 Safari/537.36\"\n",
    "}\n",
    "\n",
    "response = requests.get(url, headers=headers)\n",
    "soup = BeautifulSoup(response.text, 'html.parser')\n",
    "\n",
    "# Trova la tabella giusta\n",
    "table = soup.find('table', class_='marcatori_campionati')\n",
    "\n",
    "# Prendi tutte le righe dei dati\n",
    "rows = table.find('tbody').find_all('tr')\n",
    "\n",
    "data = []\n",
    "for row in rows:\n",
    "    cols = row.find_all('td')\n",
    "    if len(cols) == 3:\n",
    "        gol = cols[0].text.strip()\n",
    "        giocatore = cols[1].text.strip()\n",
    "        squadra = cols[2].text.strip()\n",
    "        data.append([giocatore, squadra, gol])\n",
    "\n",
    "# Crea DataFrame\n",
    "df = pd.DataFrame(data, columns=['Giocatore', 'Squadra', 'Gol'])\n",
    "print(df)\n"
   ]
  },
  {
   "cell_type": "code",
   "execution_count": 2,
   "id": "8f07dd82",
   "metadata": {},
   "outputs": [
    {
     "name": "stdout",
     "output_type": "stream",
     "text": [
      "                 Giocatore     Squadra        Gol  Gol Totali\n",
      "0            Immobile Ciro       Lazio  27 (7 r.)          27\n",
      "1         Martinez Lautaro       Inter  21 (2 r.)          21\n",
      "2   Simeone Giovanni Pablo      Verona         17          17\n",
      "3            Abraham Tammy        Roma  17 (3 r.)          17\n",
      "4           Vlahovic Dusan  Fiorentina  17 (5 r.)          17\n",
      "5        Scamacca Gianluca    Sassuolo  16 (1 r.)          16\n",
      "6         Berardi Domenico    Sassuolo  15 (6 r.)          15\n",
      "7           Osimhen Victor      Napoli         14          14\n",
      "8         Arnautovic Marko     Bologna  14 (2 r.)          14\n",
      "9  Joao Pedro Guerra Cunha    Cagliari  13 (3 r.)          13\n"
     ]
    }
   ],
   "source": [
    "import re\n",
    "# Funzione per pulire il numero dei gol (togliere la parte tra parentesi)\n",
    "def clean_gol(gol_str):\n",
    "    match = re.match(r\"(\\d+)\", gol_str)\n",
    "    return int(match.group(1)) if match else None\n",
    "\n",
    "# Applica la funzione\n",
    "df['Gol Totali'] = df['Gol'].apply(clean_gol)\n",
    "\n",
    "# Visualizza i primi risultati\n",
    "print(df[['Giocatore', 'Squadra', 'Gol', 'Gol Totali']].head(10))\n"
   ]
  },
  {
   "cell_type": "code",
   "execution_count": 3,
   "id": "9d3b0ba3",
   "metadata": {},
   "outputs": [
    {
     "name": "stdout",
     "output_type": "stream",
     "text": [
      "                 Giocatore     Squadra  Gol Totali  Anno\n",
      "0            Immobile Ciro       Lazio          27  2022\n",
      "1         Martinez Lautaro       Inter          21  2022\n",
      "2   Simeone Giovanni Pablo      Verona          17  2022\n",
      "3            Abraham Tammy        Roma          17  2022\n",
      "4           Vlahovic Dusan  Fiorentina          17  2022\n",
      "5        Scamacca Gianluca    Sassuolo          16  2022\n",
      "6         Berardi Domenico    Sassuolo          15  2022\n",
      "7           Osimhen Victor      Napoli          14  2022\n",
      "8         Arnautovic Marko     Bologna          14  2022\n",
      "9  Joao Pedro Guerra Cunha    Cagliari          13  2022\n"
     ]
    }
   ],
   "source": [
    "# Elimina la colonna \"Gol\"\n",
    "df = df.drop(columns=['Gol'])\n",
    "\n",
    "#aggiungo colonna anno \n",
    "df['Anno'] = 2022\n",
    "\n",
    "# Visualizza i primi risultati per conferma\n",
    "print(df.head(10))"
   ]
  },
  {
   "cell_type": "code",
   "execution_count": 4,
   "id": "06d9c380",
   "metadata": {},
   "outputs": [],
   "source": [
    "#unisco i due vlahovic presenti nel dataframe e sommo i gol\n",
    "df.loc[df['Giocatore'] == 'Vlahovic Dusan', 'Gol Totali'] = df.loc[df['Giocatore'] == 'Vlahovic Dusan', 'Gol Totali'].sum()"
   ]
  },
  {
   "cell_type": "code",
   "execution_count": 5,
   "id": "8ce00e53",
   "metadata": {},
   "outputs": [
    {
     "name": "stdout",
     "output_type": "stream",
     "text": [
      "         Giocatore     Squadra  Gol Totali  Anno\n",
      "4   Vlahovic Dusan  Fiorentina          23  2022\n",
      "51  Vlahovic Dusan    Juventus          23  2022\n"
     ]
    }
   ],
   "source": [
    "print(df[df['Giocatore'] == 'Vlahovic Dusan'])"
   ]
  },
  {
   "cell_type": "code",
   "execution_count": 6,
   "id": "8356b0cb",
   "metadata": {},
   "outputs": [],
   "source": [
    "#elimino la riga con indice 4   \n",
    "df = df.drop(index=4)"
   ]
  },
  {
   "cell_type": "code",
   "execution_count": 9,
   "id": "78dc228c",
   "metadata": {},
   "outputs": [
    {
     "name": "stdout",
     "output_type": "stream",
     "text": [
      "                  Giocatore   Squadra  Gol Totali  Anno\n",
      "0             Immobile Ciro     Lazio          27  2022\n",
      "1          Martinez Lautaro     Inter          21  2022\n",
      "2    Simeone Giovanni Pablo    Verona          17  2022\n",
      "3             Abraham Tammy      Roma          17  2022\n",
      "5         Scamacca Gianluca  Sassuolo          16  2022\n",
      "6          Berardi Domenico  Sassuolo          15  2022\n",
      "7            Osimhen Victor    Napoli          14  2022\n",
      "8          Arnautovic Marko   Bologna          14  2022\n",
      "9   Joao Pedro Guerra Cunha  Cagliari          13  2022\n",
      "10            Pasalic Mario  Atalanta          13  2022\n"
     ]
    }
   ],
   "source": [
    "print(df.head(10))"
   ]
  },
  {
   "cell_type": "code",
   "execution_count": 10,
   "id": "dc18a927",
   "metadata": {},
   "outputs": [],
   "source": [
    "df.to_csv('marcatori_serieA2122.csv', index=False)"
   ]
  }
 ],
 "metadata": {
  "kernelspec": {
   "display_name": "Python 3",
   "language": "python",
   "name": "python3"
  },
  "language_info": {
   "codemirror_mode": {
    "name": "ipython",
    "version": 3
   },
   "file_extension": ".py",
   "mimetype": "text/x-python",
   "name": "python",
   "nbconvert_exporter": "python",
   "pygments_lexer": "ipython3",
   "version": "3.13.1"
  }
 },
 "nbformat": 4,
 "nbformat_minor": 5
}
