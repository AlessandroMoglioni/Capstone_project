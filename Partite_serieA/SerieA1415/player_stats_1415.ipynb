{
 "cells": [
  {
   "cell_type": "code",
   "execution_count": 1,
   "id": "e645763d",
   "metadata": {},
   "outputs": [
    {
     "name": "stdout",
     "output_type": "stream",
     "text": [
      "              Giocatore   Squadra Gol\n",
      "0             Luca Toni    Verona  22\n",
      "1          Mauro Icardi     Inter  22\n",
      "2          Carlos Tevez  Juventus  20\n",
      "3       Gonzalo Higuaín    Napoli  18\n",
      "4          Jérémy Menez     Milan  16\n",
      "5      Domenico Berardi  Sassuolo  15\n",
      "6     Manolo Gabbiadini    Napoli  15\n",
      "7     Antonio Di Natale   Udinese  14\n",
      "8    Fabio Quagliarella    Torino  13\n",
      "9           Iago Falque     Genoa  13\n",
      "10       Miroslav Klose     Lazio  13\n",
      "11         Paulo Dybala   Palermo  13\n",
      "12  José Maria Callejon    Napoli  11\n",
      "13          Simone Zaza  Sassuolo  11\n",
      "14     Antonio Candreva     Lazio  10\n",
      "15        Cyril Thereau   Udinese  10\n",
      "16      Felipe Anderson     Lazio  10\n",
      "17       Franco Vazquez   Palermo  10\n",
      "18         Marco Parolo     Lazio  10\n",
      "19    Massimo Maccarone    Empoli  10\n"
     ]
    }
   ],
   "source": [
    "import requests\n",
    "from bs4 import BeautifulSoup\n",
    "import pandas as pd\n",
    "\n",
    "# URL della pagina\n",
    "url = \"https://www.topmarcatori.it/serie-a/stagione-2014/2015\"\n",
    "\n",
    "# Richiedi la pagina\n",
    "response = requests.get(url)\n",
    "soup = BeautifulSoup(response.content, \"html.parser\")\n",
    "\n",
    "# Trova la tabella con i dati\n",
    "table = soup.find(\"table\", class_=\"table table-striped\")\n",
    "\n",
    "# Inizializza le liste per i dati\n",
    "giocatori, squadre, gol = [], [], []\n",
    "\n",
    "# Scorri le righe della tabella per estrarre i dati\n",
    "for row in table.find_all(\"tr\")[1:]:  # Ignora la riga dell'intestazione\n",
    "    cols = row.find_all(\"td\")\n",
    "    if len(cols) >= 4:\n",
    "        # Estrai il nome del giocatore e della squadra\n",
    "        nome_squadra = cols[1].get_text(strip=True, separator=\"\\n\").split(\"\\n\")\n",
    "        giocatori.append(nome_squadra[0])\n",
    "        squadre.append(nome_squadra[1] if len(nome_squadra) > 1 else \"Non trovata\")\n",
    "        \n",
    "        # Estrai i gol dal div con class \"goals\"\n",
    "        gol_div = row.find(\"div\", class_=\"goals\")\n",
    "        if gol_div:\n",
    "            gol.append(gol_div.get_text(strip=True))\n",
    "        else:\n",
    "            gol.append(\"Non trovato\")\n",
    "\n",
    "# Crea un DataFrame con i dati\n",
    "df = pd.DataFrame({\n",
    "    \"Giocatore\": giocatori,\n",
    "    \"Squadra\": squadre,\n",
    "    \"Gol\": gol\n",
    "})\n",
    "\n",
    "# Mostra il risultato\n",
    "print(df)\n"
   ]
  },
  {
   "cell_type": "code",
   "execution_count": 3,
   "id": "89f816fd",
   "metadata": {},
   "outputs": [
    {
     "name": "stdout",
     "output_type": "stream",
     "text": [
      "              Giocatore   Squadra Gol  Anno\n",
      "0             Luca Toni    Verona  22  2015\n",
      "1          Mauro Icardi     Inter  22  2015\n",
      "2          Carlos Tevez  Juventus  20  2015\n",
      "3       Gonzalo Higuaín    Napoli  18  2015\n",
      "4          Jérémy Menez     Milan  16  2015\n",
      "5      Domenico Berardi  Sassuolo  15  2015\n",
      "6     Manolo Gabbiadini    Napoli  15  2015\n",
      "7     Antonio Di Natale   Udinese  14  2015\n",
      "8    Fabio Quagliarella    Torino  13  2015\n",
      "9           Iago Falque     Genoa  13  2015\n",
      "10       Miroslav Klose     Lazio  13  2015\n",
      "11         Paulo Dybala   Palermo  13  2015\n",
      "12  José Maria Callejon    Napoli  11  2015\n",
      "13          Simone Zaza  Sassuolo  11  2015\n",
      "14     Antonio Candreva     Lazio  10  2015\n",
      "15        Cyril Thereau   Udinese  10  2015\n",
      "16      Felipe Anderson     Lazio  10  2015\n",
      "17       Franco Vazquez   Palermo  10  2015\n",
      "18         Marco Parolo     Lazio  10  2015\n",
      "19    Massimo Maccarone    Empoli  10  2015\n"
     ]
    }
   ],
   "source": [
    "#aggiungo la colonna anno \n",
    "df['Anno'] = 2015\n",
    "print(df)"
   ]
  },
  {
   "cell_type": "code",
   "execution_count": 5,
   "id": "435abde6",
   "metadata": {},
   "outputs": [
    {
     "name": "stdout",
     "output_type": "stream",
     "text": [
      "              Giocatore   Squadra Gol totali  Anno\n",
      "0             Luca Toni    Verona         22  2015\n",
      "1          Mauro Icardi     Inter         22  2015\n",
      "2          Carlos Tevez  Juventus         20  2015\n",
      "3       Gonzalo Higuaín    Napoli         18  2015\n",
      "4          Jérémy Menez     Milan         16  2015\n",
      "5      Domenico Berardi  Sassuolo         15  2015\n",
      "6     Manolo Gabbiadini    Napoli         15  2015\n",
      "7     Antonio Di Natale   Udinese         14  2015\n",
      "8    Fabio Quagliarella    Torino         13  2015\n",
      "9           Iago Falque     Genoa         13  2015\n",
      "10       Miroslav Klose     Lazio         13  2015\n",
      "11         Paulo Dybala   Palermo         13  2015\n",
      "12  José Maria Callejon    Napoli         11  2015\n",
      "13          Simone Zaza  Sassuolo         11  2015\n",
      "14     Antonio Candreva     Lazio         10  2015\n",
      "15        Cyril Thereau   Udinese         10  2015\n",
      "16      Felipe Anderson     Lazio         10  2015\n",
      "17       Franco Vazquez   Palermo         10  2015\n",
      "18         Marco Parolo     Lazio         10  2015\n",
      "19    Massimo Maccarone    Empoli         10  2015\n"
     ]
    }
   ],
   "source": [
    "#modifico il nome della colonna \"Gol\" in \"Gol totali\n",
    "df.rename(columns={\"Gol\": \"Gol totali\"}, inplace=True)\n",
    "print(df)"
   ]
  },
  {
   "cell_type": "code",
   "execution_count": 6,
   "id": "2ecd58a6",
   "metadata": {},
   "outputs": [],
   "source": [
    "#salviamo il DataFrame in un file CSV\n",
    "df.to_csv(\"marcatori_serieA1415.csv\", index=False, encoding='utf-8-sig')"
   ]
  }
 ],
 "metadata": {
  "kernelspec": {
   "display_name": "Python 3",
   "language": "python",
   "name": "python3"
  },
  "language_info": {
   "codemirror_mode": {
    "name": "ipython",
    "version": 3
   },
   "file_extension": ".py",
   "mimetype": "text/x-python",
   "name": "python",
   "nbconvert_exporter": "python",
   "pygments_lexer": "ipython3",
   "version": "3.13.1"
  }
 },
 "nbformat": 4,
 "nbformat_minor": 5
}
