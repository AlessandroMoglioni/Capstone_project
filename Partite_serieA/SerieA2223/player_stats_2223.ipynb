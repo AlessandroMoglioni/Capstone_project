{
 "cells": [
  {
   "cell_type": "code",
   "execution_count": 5,
   "id": "e22a7236",
   "metadata": {},
   "outputs": [
    {
     "name": "stdout",
     "output_type": "stream",
     "text": [
      "                Giocatore      Squadra        Gol\n",
      "0          Osimhen Victor       Napoli  26 (2 r.)\n",
      "1        Martinez Lautaro        Inter  21 (1 r.)\n",
      "2             Dia Boulaye  Salernitana  16 (1 r.)\n",
      "3             Leao Rafael        Milan         14\n",
      "4         Lookman Ademola     Atalanta  14 (3 r.)\n",
      "..                    ...          ...        ...\n",
      "279           Lammers Sam    Sampdoria          1\n",
      "280      Volpato Cristian         Roma          1\n",
      "281          Botheim Erik  Salernitana          1\n",
      "282  Juan Jesus Guilherme       Napoli          1\n",
      "283          Perez Nehuen      Udinese          1\n",
      "\n",
      "[284 rows x 3 columns]\n"
     ]
    }
   ],
   "source": [
    "import requests\n",
    "from bs4 import BeautifulSoup\n",
    "import pandas as pd\n",
    "\n",
    "url = 'https://www.datasport.it/calcio/serie-a2022-2023/marcatori/38.html'\n",
    "headers = {\n",
    "    \"User-Agent\": \"Mozilla/5.0 (Windows NT 10.0; Win64; x64) AppleWebKit/537.36 (KHTML, like Gecko) Chrome/122.0.0.0 Safari/537.36\"\n",
    "}\n",
    "\n",
    "response = requests.get(url, headers=headers)\n",
    "soup = BeautifulSoup(response.text, 'html.parser')\n",
    "\n",
    "# Trova la tabella giusta\n",
    "table = soup.find('table', class_='marcatori_campionati')\n",
    "\n",
    "# Prendi tutte le righe dei dati\n",
    "rows = table.find('tbody').find_all('tr')\n",
    "\n",
    "data = []\n",
    "for row in rows:\n",
    "    cols = row.find_all('td')\n",
    "    if len(cols) == 3:\n",
    "        gol = cols[0].text.strip()\n",
    "        giocatore = cols[1].text.strip()\n",
    "        squadra = cols[2].text.strip()\n",
    "        data.append([giocatore, squadra, gol])\n",
    "\n",
    "# Crea DataFrame\n",
    "df = pd.DataFrame(data, columns=['Giocatore', 'Squadra', 'Gol'])\n",
    "print(df)\n"
   ]
  },
  {
   "cell_type": "code",
   "execution_count": 6,
   "id": "aba22961",
   "metadata": {},
   "outputs": [
    {
     "name": "stdout",
     "output_type": "stream",
     "text": [
      "               Giocatore      Squadra        Gol  Gol Totali\n",
      "0         Osimhen Victor       Napoli  26 (2 r.)          26\n",
      "1       Martinez Lautaro        Inter  21 (1 r.)          21\n",
      "2            Dia Boulaye  Salernitana  16 (1 r.)          16\n",
      "3            Leao Rafael        Milan         14          14\n",
      "4        Lookman Ademola     Atalanta  14 (3 r.)          14\n",
      "5         Giroud Olivier        Milan  13 (3 r.)          13\n",
      "6           Nzola M'Bala       Spezia  13 (3 r.)          13\n",
      "7          Immobile Ciro        Lazio  12 (3 r.)          12\n",
      "8       Berardi Domenico     Sassuolo  12 (6 r.)          12\n",
      "9  Kvaratskhelia Khvicha       Napoli  12 (1 r.)          12\n"
     ]
    }
   ],
   "source": [
    "import re\n",
    "# Funzione per pulire il numero dei gol (togliere la parte tra parentesi)\n",
    "def clean_gol(gol_str):\n",
    "    match = re.match(r\"(\\d+)\", gol_str)\n",
    "    return int(match.group(1)) if match else None\n",
    "\n",
    "# Applica la funzione\n",
    "df['Gol Totali'] = df['Gol'].apply(clean_gol)\n",
    "\n",
    "# Visualizza i primi risultati\n",
    "print(df[['Giocatore', 'Squadra', 'Gol', 'Gol Totali']].head(10))"
   ]
  },
  {
   "cell_type": "code",
   "execution_count": 7,
   "id": "08b6017e",
   "metadata": {},
   "outputs": [
    {
     "name": "stdout",
     "output_type": "stream",
     "text": [
      "               Giocatore      Squadra  Gol Totali  Anno\n",
      "0         Osimhen Victor       Napoli          26  2023\n",
      "1       Martinez Lautaro        Inter          21  2023\n",
      "2            Dia Boulaye  Salernitana          16  2023\n",
      "3            Leao Rafael        Milan          14  2023\n",
      "4        Lookman Ademola     Atalanta          14  2023\n",
      "5         Giroud Olivier        Milan          13  2023\n",
      "6           Nzola M'Bala       Spezia          13  2023\n",
      "7          Immobile Ciro        Lazio          12  2023\n",
      "8       Berardi Domenico     Sassuolo          12  2023\n",
      "9  Kvaratskhelia Khvicha       Napoli          12  2023\n"
     ]
    }
   ],
   "source": [
    "# Elimina la colonna \"Gol\"\n",
    "df = df.drop(columns=['Gol'])\n",
    "\n",
    "#aggiungo colonna anno \n",
    "df['Anno'] = 2023\n",
    "\n",
    "# Visualizza i primi risultati per conferma\n",
    "print(df.head(10))\n"
   ]
  },
  {
   "cell_type": "code",
   "execution_count": 8,
   "id": "f5dc786f",
   "metadata": {},
   "outputs": [],
   "source": [
    "df.to_csv('marcatori_serieA2223.csv', index=False)"
   ]
  }
 ],
 "metadata": {
  "kernelspec": {
   "display_name": "Python 3",
   "language": "python",
   "name": "python3"
  },
  "language_info": {
   "codemirror_mode": {
    "name": "ipython",
    "version": 3
   },
   "file_extension": ".py",
   "mimetype": "text/x-python",
   "name": "python",
   "nbconvert_exporter": "python",
   "pygments_lexer": "ipython3",
   "version": "3.13.1"
  }
 },
 "nbformat": 4,
 "nbformat_minor": 5
}
